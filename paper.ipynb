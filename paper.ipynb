{
 "cells": [
  {
   "cell_type": "code",
   "execution_count": 1,
   "metadata": {},
   "outputs": [
    {
     "name": "stdout",
     "output_type": "stream",
     "text": [
      "Collecting imageio\n",
      "  Using cached imageio-2.35.1-py3-none-any.whl.metadata (4.9 kB)\n",
      "Collecting numpy\n",
      "  Downloading numpy-2.1.1-cp312-cp312-win_amd64.whl.metadata (59 kB)\n",
      "Collecting pandas\n",
      "  Using cached pandas-2.2.2-cp312-cp312-win_amd64.whl.metadata (19 kB)\n",
      "Collecting matplotlib\n",
      "  Downloading matplotlib-3.9.2-cp312-cp312-win_amd64.whl.metadata (11 kB)\n",
      "Collecting scikit-image\n",
      "  Using cached scikit_image-0.24.0-cp312-cp312-win_amd64.whl.metadata (14 kB)\n",
      "Collecting pillow>=8.3.2 (from imageio)\n",
      "  Using cached pillow-10.4.0-cp312-cp312-win_amd64.whl.metadata (9.3 kB)\n",
      "Requirement already satisfied: python-dateutil>=2.8.2 in h:\\projects\\artist\\.venv\\lib\\site-packages (from pandas) (2.9.0.post0)\n",
      "Collecting pytz>=2020.1 (from pandas)\n",
      "  Using cached pytz-2024.2-py2.py3-none-any.whl.metadata (22 kB)\n",
      "Collecting tzdata>=2022.7 (from pandas)\n",
      "  Using cached tzdata-2024.1-py2.py3-none-any.whl.metadata (1.4 kB)\n",
      "Collecting contourpy>=1.0.1 (from matplotlib)\n",
      "  Downloading contourpy-1.3.0-cp312-cp312-win_amd64.whl.metadata (5.4 kB)\n",
      "Collecting cycler>=0.10 (from matplotlib)\n",
      "  Using cached cycler-0.12.1-py3-none-any.whl.metadata (3.8 kB)\n",
      "Collecting fonttools>=4.22.0 (from matplotlib)\n",
      "  Using cached fonttools-4.53.1-cp312-cp312-win_amd64.whl.metadata (165 kB)\n",
      "Collecting kiwisolver>=1.3.1 (from matplotlib)\n",
      "  Downloading kiwisolver-1.4.7-cp312-cp312-win_amd64.whl.metadata (6.4 kB)\n",
      "Requirement already satisfied: packaging>=20.0 in h:\\projects\\artist\\.venv\\lib\\site-packages (from matplotlib) (24.1)\n",
      "Collecting pyparsing>=2.3.1 (from matplotlib)\n",
      "  Downloading pyparsing-3.1.4-py3-none-any.whl.metadata (5.1 kB)\n",
      "Collecting scipy>=1.9 (from scikit-image)\n",
      "  Using cached scipy-1.14.1-cp312-cp312-win_amd64.whl.metadata (60 kB)\n",
      "Collecting networkx>=2.8 (from scikit-image)\n",
      "  Using cached networkx-3.3-py3-none-any.whl.metadata (5.1 kB)\n",
      "Collecting tifffile>=2022.8.12 (from scikit-image)\n",
      "  Using cached tifffile-2024.8.30-py3-none-any.whl.metadata (31 kB)\n",
      "Collecting lazy-loader>=0.4 (from scikit-image)\n",
      "  Using cached lazy_loader-0.4-py3-none-any.whl.metadata (7.6 kB)\n",
      "Requirement already satisfied: six>=1.5 in h:\\projects\\artist\\.venv\\lib\\site-packages (from python-dateutil>=2.8.2->pandas) (1.16.0)\n",
      "Using cached imageio-2.35.1-py3-none-any.whl (315 kB)\n",
      "Downloading numpy-2.1.1-cp312-cp312-win_amd64.whl (12.6 MB)\n",
      "   ---------------------------------------- 0.0/12.6 MB ? eta -:--:--\n",
      "   ---------------------------------------- 0.0/12.6 MB ? eta -:--:--\n",
      "   - -------------------------------------- 0.5/12.6 MB 4.2 MB/s eta 0:00:03\n",
      "   ---- ----------------------------------- 1.3/12.6 MB 3.5 MB/s eta 0:00:04\n",
      "   ------ --------------------------------- 2.1/12.6 MB 3.8 MB/s eta 0:00:03\n",
      "   --------- ------------------------------ 2.9/12.6 MB 3.7 MB/s eta 0:00:03\n",
      "   ------------ --------------------------- 3.9/12.6 MB 3.8 MB/s eta 0:00:03\n",
      "   -------------- ------------------------- 4.5/12.6 MB 3.7 MB/s eta 0:00:03\n",
      "   ----------------- ---------------------- 5.5/12.6 MB 3.8 MB/s eta 0:00:02\n",
      "   -------------------- ------------------- 6.3/12.6 MB 3.8 MB/s eta 0:00:02\n",
      "   ---------------------- ----------------- 7.1/12.6 MB 3.8 MB/s eta 0:00:02\n",
      "   ------------------------ --------------- 7.6/12.6 MB 3.6 MB/s eta 0:00:02\n",
      "   -------------------------- ------------- 8.4/12.6 MB 3.7 MB/s eta 0:00:02\n",
      "   ---------------------------- ----------- 8.9/12.6 MB 3.6 MB/s eta 0:00:02\n",
      "   ------------------------------ --------- 9.7/12.6 MB 3.6 MB/s eta 0:00:01\n",
      "   --------------------------------- ------ 10.5/12.6 MB 3.6 MB/s eta 0:00:01\n",
      "   ----------------------------------- ---- 11.3/12.6 MB 3.6 MB/s eta 0:00:01\n",
      "   ------------------------------------- -- 11.8/12.6 MB 3.5 MB/s eta 0:00:01\n",
      "   ---------------------------------------  12.3/12.6 MB 3.5 MB/s eta 0:00:01\n",
      "   ---------------------------------------- 12.6/12.6 MB 3.4 MB/s eta 0:00:00\n",
      "Using cached pandas-2.2.2-cp312-cp312-win_amd64.whl (11.5 MB)\n",
      "Downloading matplotlib-3.9.2-cp312-cp312-win_amd64.whl (7.8 MB)\n",
      "   ---------------------------------------- 0.0/7.8 MB ? eta -:--:--\n",
      "   ---------------------------------------- 0.0/7.8 MB ? eta -:--:--\n",
      "   ---------------------------------------- 0.0/7.8 MB ? eta -:--:--\n",
      "   - -------------------------------------- 0.3/7.8 MB ? eta -:--:--\n",
      "   -- ------------------------------------- 0.5/7.8 MB 2.1 MB/s eta 0:00:04\n",
      "   ----- ---------------------------------- 1.0/7.8 MB 1.9 MB/s eta 0:00:04\n",
      "   ------ --------------------------------- 1.3/7.8 MB 2.0 MB/s eta 0:00:04\n",
      "   --------- ------------------------------ 1.8/7.8 MB 1.9 MB/s eta 0:00:04\n",
      "   ---------- ----------------------------- 2.1/7.8 MB 1.8 MB/s eta 0:00:04\n",
      "   ---------- ----------------------------- 2.1/7.8 MB 1.8 MB/s eta 0:00:04\n",
      "   ------------- -------------------------- 2.6/7.8 MB 1.5 MB/s eta 0:00:04\n",
      "   ------------- -------------------------- 2.6/7.8 MB 1.5 MB/s eta 0:00:04\n",
      "   -------------- ------------------------- 2.9/7.8 MB 1.5 MB/s eta 0:00:04\n",
      "   ---------------- ----------------------- 3.1/7.8 MB 1.5 MB/s eta 0:00:04\n",
      "   ----------------- ---------------------- 3.4/7.8 MB 1.4 MB/s eta 0:00:04\n",
      "   -------------------- ------------------- 3.9/7.8 MB 1.4 MB/s eta 0:00:03\n",
      "   --------------------- ------------------ 4.2/7.8 MB 1.4 MB/s eta 0:00:03\n",
      "   --------------------- ------------------ 4.2/7.8 MB 1.4 MB/s eta 0:00:03\n",
      "   --------------------- ------------------ 4.2/7.8 MB 1.4 MB/s eta 0:00:03\n",
      "   --------------------- ------------------ 4.2/7.8 MB 1.4 MB/s eta 0:00:03\n",
      "   ---------------------- ----------------- 4.5/7.8 MB 1.2 MB/s eta 0:00:03\n",
      "   ---------------------- ----------------- 4.5/7.8 MB 1.2 MB/s eta 0:00:03\n",
      "   ---------------------- ----------------- 4.5/7.8 MB 1.2 MB/s eta 0:00:03\n",
      "   ---------------------- ----------------- 4.5/7.8 MB 1.2 MB/s eta 0:00:03\n",
      "   ------------------------ --------------- 4.7/7.8 MB 1.0 MB/s eta 0:00:04\n",
      "   ------------------------ --------------- 4.7/7.8 MB 1.0 MB/s eta 0:00:04\n",
      "   ------------------------ --------------- 4.7/7.8 MB 1.0 MB/s eta 0:00:04\n",
      "   ------------------------ --------------- 4.7/7.8 MB 1.0 MB/s eta 0:00:04\n",
      "   ------------------------ --------------- 4.7/7.8 MB 1.0 MB/s eta 0:00:04\n",
      "   ------------------------ --------------- 4.7/7.8 MB 1.0 MB/s eta 0:00:04\n",
      "   ------------------------- -------------- 5.0/7.8 MB 829.7 kB/s eta 0:00:04\n",
      "   ------------------------- -------------- 5.0/7.8 MB 829.7 kB/s eta 0:00:04\n",
      "   ------------------------- -------------- 5.0/7.8 MB 829.7 kB/s eta 0:00:04\n",
      "   ------------------------- -------------- 5.0/7.8 MB 829.7 kB/s eta 0:00:04\n",
      "   ------------------------- -------------- 5.0/7.8 MB 829.7 kB/s eta 0:00:04\n",
      "   ------------------------- -------------- 5.0/7.8 MB 829.7 kB/s eta 0:00:04\n",
      "   -------------------------- ------------- 5.2/7.8 MB 718.0 kB/s eta 0:00:04\n",
      "   -------------------------- ------------- 5.2/7.8 MB 718.0 kB/s eta 0:00:04\n",
      "   -------------------------- ------------- 5.2/7.8 MB 718.0 kB/s eta 0:00:04\n",
      "   -------------------------- ------------- 5.2/7.8 MB 718.0 kB/s eta 0:00:04\n",
      "   -------------------------- ------------- 5.2/7.8 MB 718.0 kB/s eta 0:00:04\n",
      "   ---------------------------- ----------- 5.5/7.8 MB 651.6 kB/s eta 0:00:04\n",
      "   ---------------------------- ----------- 5.5/7.8 MB 651.6 kB/s eta 0:00:04\n",
      "   ---------------------------- ----------- 5.5/7.8 MB 651.6 kB/s eta 0:00:04\n",
      "   ----------------------------- ---------- 5.8/7.8 MB 633.7 kB/s eta 0:00:04\n",
      "   ----------------------------- ---------- 5.8/7.8 MB 633.7 kB/s eta 0:00:04\n",
      "   ----------------------------- ---------- 5.8/7.8 MB 633.7 kB/s eta 0:00:04\n",
      "   ------------------------------ --------- 6.0/7.8 MB 614.2 kB/s eta 0:00:03\n",
      "   ------------------------------ --------- 6.0/7.8 MB 614.2 kB/s eta 0:00:03\n",
      "   ------------------------------ --------- 6.0/7.8 MB 614.2 kB/s eta 0:00:03\n",
      "   ------------------------------ --------- 6.0/7.8 MB 614.2 kB/s eta 0:00:03\n",
      "   ------------------------------ --------- 6.0/7.8 MB 614.2 kB/s eta 0:00:03\n",
      "   -------------------------------- ------- 6.3/7.8 MB 580.3 kB/s eta 0:00:03\n",
      "   -------------------------------- ------- 6.3/7.8 MB 580.3 kB/s eta 0:00:03\n",
      "   -------------------------------- ------- 6.3/7.8 MB 580.3 kB/s eta 0:00:03\n",
      "   -------------------------------- ------- 6.3/7.8 MB 580.3 kB/s eta 0:00:03\n",
      "   --------------------------------- ------ 6.6/7.8 MB 564.8 kB/s eta 0:00:03\n",
      "   --------------------------------- ------ 6.6/7.8 MB 564.8 kB/s eta 0:00:03\n",
      "   --------------------------------- ------ 6.6/7.8 MB 564.8 kB/s eta 0:00:03\n",
      "   --------------------------------- ------ 6.6/7.8 MB 564.8 kB/s eta 0:00:03\n",
      "   --------------------------------- ------ 6.6/7.8 MB 564.8 kB/s eta 0:00:03\n",
      "   ---------------------------------- ----- 6.8/7.8 MB 535.7 kB/s eta 0:00:02\n",
      "   ---------------------------------- ----- 6.8/7.8 MB 535.7 kB/s eta 0:00:02\n",
      "   ---------------------------------- ----- 6.8/7.8 MB 535.7 kB/s eta 0:00:02\n",
      "   ------------------------------------ --- 7.1/7.8 MB 530.0 kB/s eta 0:00:02\n",
      "   ------------------------------------ --- 7.1/7.8 MB 530.0 kB/s eta 0:00:02\n",
      "   ------------------------------------ --- 7.1/7.8 MB 530.0 kB/s eta 0:00:02\n",
      "   ------------------------------------- -- 7.3/7.8 MB 524.9 kB/s eta 0:00:01\n",
      "   ------------------------------------- -- 7.3/7.8 MB 524.9 kB/s eta 0:00:01\n",
      "   ------------------------------------- -- 7.3/7.8 MB 524.9 kB/s eta 0:00:01\n",
      "   -------------------------------------- - 7.6/7.8 MB 517.4 kB/s eta 0:00:01\n",
      "   -------------------------------------- - 7.6/7.8 MB 517.4 kB/s eta 0:00:01\n",
      "   ---------------------------------------- 7.8/7.8 MB 517.1 kB/s eta 0:00:00\n",
      "Using cached scikit_image-0.24.0-cp312-cp312-win_amd64.whl (12.9 MB)\n",
      "Downloading contourpy-1.3.0-cp312-cp312-win_amd64.whl (218 kB)\n",
      "Using cached cycler-0.12.1-py3-none-any.whl (8.3 kB)\n",
      "Using cached fonttools-4.53.1-cp312-cp312-win_amd64.whl (2.2 MB)\n",
      "Downloading kiwisolver-1.4.7-cp312-cp312-win_amd64.whl (55 kB)\n",
      "Using cached lazy_loader-0.4-py3-none-any.whl (12 kB)\n",
      "Using cached networkx-3.3-py3-none-any.whl (1.7 MB)\n",
      "Using cached pillow-10.4.0-cp312-cp312-win_amd64.whl (2.6 MB)\n",
      "Downloading pyparsing-3.1.4-py3-none-any.whl (104 kB)\n",
      "Using cached pytz-2024.2-py2.py3-none-any.whl (508 kB)\n",
      "Using cached scipy-1.14.1-cp312-cp312-win_amd64.whl (44.5 MB)\n",
      "Using cached tifffile-2024.8.30-py3-none-any.whl (227 kB)\n",
      "Using cached tzdata-2024.1-py2.py3-none-any.whl (345 kB)\n",
      "Installing collected packages: pytz, tzdata, pyparsing, pillow, numpy, networkx, lazy-loader, kiwisolver, fonttools, cycler, tifffile, scipy, pandas, imageio, contourpy, scikit-image, matplotlib\n",
      "Successfully installed contourpy-1.3.0 cycler-0.12.1 fonttools-4.53.1 imageio-2.35.1 kiwisolver-1.4.7 lazy-loader-0.4 matplotlib-3.9.2 networkx-3.3 numpy-2.1.1 pandas-2.2.2 pillow-10.4.0 pyparsing-3.1.4 pytz-2024.2 scikit-image-0.24.0 scipy-1.14.1 tifffile-2024.8.30 tzdata-2024.1\n",
      "Note: you may need to restart the kernel to use updated packages.\n"
     ]
    }
   ],
   "source": [
    "%pip install imageio numpy pandas matplotlib scikit-image"
   ]
  },
  {
   "cell_type": "code",
   "execution_count": 97,
   "metadata": {},
   "outputs": [],
   "source": [
    "from imageio.v3 import imread\n",
    "from skimage.filters import try_all_threshold\n",
    "import matplotlib.pyplot as plt\n",
    "import cv2\n",
    "from skimage.feature import canny\n",
    "from skimage.measure import regionprops, label"
   ]
  },
  {
   "cell_type": "code",
   "execution_count": 85,
   "metadata": {},
   "outputs": [],
   "source": [
    "edges = canny(img1[300:900, 400:1100, 2].astype('uint8'))"
   ]
  },
  {
   "cell_type": "code",
   "execution_count": 91,
   "metadata": {},
   "outputs": [],
   "source": [
    "lb = label(edges)\n",
    "rps = regionprops(lb)"
   ]
  },
  {
   "cell_type": "code",
   "execution_count": 95,
   "metadata": {},
   "outputs": [
    {
     "data": {
      "text/plain": [
       "[np.float64(62.0),\n",
       " np.float64(45.0),\n",
       " np.float64(98.0),\n",
       " np.float64(11.0),\n",
       " np.float64(9.0),\n",
       " np.float64(79.0),\n",
       " np.float64(17.0),\n",
       " np.float64(24.0),\n",
       " np.float64(20.0),\n",
       " np.float64(12.0),\n",
       " np.float64(5.0),\n",
       " np.float64(41.0),\n",
       " np.float64(6.0),\n",
       " np.float64(6.0),\n",
       " np.float64(12.0),\n",
       " np.float64(9.0),\n",
       " np.float64(6.0),\n",
       " np.float64(8.0),\n",
       " np.float64(1412.0),\n",
       " np.float64(303.0),\n",
       " np.float64(15.0)]"
      ]
     },
     "execution_count": 95,
     "metadata": {},
     "output_type": "execute_result"
    }
   ],
   "source": [
    "areas"
   ]
  },
  {
   "cell_type": "code",
   "execution_count": 98,
   "metadata": {},
   "outputs": [],
   "source": [
    "areas = [rp.area for rp in rps]\n",
    "mx = areas.index(max(areas))\n",
    "rect = lb == (mx + 1)"
   ]
  },
  {
   "cell_type": "code",
   "execution_count": null,
   "metadata": {},
   "outputs": [],
   "source": [
    "cv2.findContours()"
   ]
  },
  {
   "cell_type": "code",
   "execution_count": 100,
   "metadata": {},
   "outputs": [
    {
     "ename": "error",
     "evalue": "OpenCV(4.10.0) D:\\a\\opencv-python\\opencv-python\\opencv\\modules\\imgproc\\src\\convhull.cpp:143: error: (-215:Assertion failed) total >= 0 && (depth == CV_32F || depth == CV_32S) in function 'cv::convexHull'\n",
     "output_type": "error",
     "traceback": [
      "\u001b[1;31m---------------------------------------------------------------------------\u001b[0m",
      "\u001b[1;31merror\u001b[0m                                     Traceback (most recent call last)",
      "Cell \u001b[1;32mIn[100], line 1\u001b[0m\n\u001b[1;32m----> 1\u001b[0m \u001b[43mcv2\u001b[49m\u001b[38;5;241;43m.\u001b[39;49m\u001b[43mminAreaRect\u001b[49m\u001b[43m(\u001b[49m\u001b[43mrect\u001b[49m\u001b[38;5;241;43m.\u001b[39;49m\u001b[43mastype\u001b[49m\u001b[43m(\u001b[49m\u001b[38;5;28;43mint\u001b[39;49m\u001b[43m)\u001b[49m\u001b[43m)\u001b[49m\n",
      "\u001b[1;31merror\u001b[0m: OpenCV(4.10.0) D:\\a\\opencv-python\\opencv-python\\opencv\\modules\\imgproc\\src\\convhull.cpp:143: error: (-215:Assertion failed) total >= 0 && (depth == CV_32F || depth == CV_32S) in function 'cv::convexHull'\n"
     ]
    }
   ],
   "source": [
    "cv2.minAreaRect(rect.astype(int))"
   ]
  },
  {
   "cell_type": "code",
   "execution_count": null,
   "metadata": {},
   "outputs": [],
   "source": []
  }
 ],
 "metadata": {
  "kernelspec": {
   "display_name": "Python 3",
   "language": "python",
   "name": "python3"
  },
  "language_info": {
   "codemirror_mode": {
    "name": "ipython",
    "version": 3
   },
   "file_extension": ".py",
   "mimetype": "text/x-python",
   "name": "python",
   "nbconvert_exporter": "python",
   "pygments_lexer": "ipython3",
   "version": "3.12.4"
  }
 },
 "nbformat": 4,
 "nbformat_minor": 2
}
